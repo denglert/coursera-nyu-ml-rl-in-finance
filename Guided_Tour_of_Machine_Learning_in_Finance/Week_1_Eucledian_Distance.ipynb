{
 "cells": [
  {
   "cell_type": "markdown",
   "metadata": {},
   "source": [
    "# Eucledian distance between random points in a hypercube"
   ]
  },
  {
   "cell_type": "markdown",
   "metadata": {},
   "source": [
    "**References:**\n",
    "- http://mathworld.wolfram.com/HypercubeLinePicking.html\n",
    "- https://www.coursera.org/learn/guided-tour-machine-learning-finance/notebook/rsGVU/euclidean-distance-calculation\n",
    "- https://math.stackexchange.com/questions/1976842/how-is-the-distance-of-two-random-points-in-a-unit-hypercube-distributed"
   ]
  },
  {
   "cell_type": "markdown",
   "metadata": {},
   "source": [
    "\\begin{equation}\n",
    "    \\Delta(d)\n",
    "    =\n",
    "    \\int_{0}^{1}\n",
    "    \\int_{0}^{1}\n",
    "    ...\n",
    "    \\int_{0}^{1}\n",
    "    \\sqrt{ (x_{1} - y_{1})^2 + (x_{2}-y_{2})^{2} + ... + (x_{n} - y_{n})^2 }\n",
    "    dx_{1}\n",
    "    ...\n",
    "    dx_{n}\n",
    "    dy_{1}\n",
    "    ...\n",
    "    dy_{n}\n",
    "\\end{equation}"
   ]
  },
  {
   "cell_type": "markdown",
   "metadata": {},
   "source": [
    "Wolfram:\n",
    "> This multiple integral has been evaluated analytically only for small values of $d$. The case $\\Delta(d=1)$ corresponds to the line line picking between two random points in the interval [0,1]. "
   ]
  },
  {
   "cell_type": "code",
   "execution_count": 1,
   "metadata": {
    "collapsed": true
   },
   "outputs": [],
   "source": [
    "import numpy as np\n",
    "import matplotlib.pyplot as plt\n",
    "%matplotlib inline"
   ]
  },
  {
   "cell_type": "code",
   "execution_count": 2,
   "metadata": {},
   "outputs": [],
   "source": [
    "def eucledian_distances_uniform_points(lower_boundary, upper_boundary, dimension, sample_size=10000):\n",
    "    X = np.random.uniform( low=lower_boundary, high=upper_boundary, size=(sample_size, dimension) )\n",
    "    Y = np.random.uniform( low=lower_boundary, high=upper_boundary, size=(sample_size, dimension) )\n",
    "    eucledian_distances = np.sqrt( np.sum((X-Y)**2, axis=1))\n",
    "    return eucledian_distances"
   ]
  },
  {
   "cell_type": "code",
   "execution_count": 3,
   "metadata": {
    "collapsed": true
   },
   "outputs": [],
   "source": [
    "lower_boundary = 0.0\n",
    "upper_boundary = 1.0\n",
    "sample_size = 10000"
   ]
  },
  {
   "cell_type": "code",
   "execution_count": 4,
   "metadata": {},
   "outputs": [
    {
     "data": {
      "text/plain": [
       "[1, 2, 4, 10, 21, 46, 100, 215, 464, 1000]"
      ]
     },
     "execution_count": 4,
     "metadata": {},
     "output_type": "execute_result"
    }
   ],
   "source": [
    "dimensions = [int(d) for d in np.logspace(0, 3, num=10)]\n",
    "dimensions"
   ]
  },
  {
   "cell_type": "code",
   "execution_count": 5,
   "metadata": {},
   "outputs": [],
   "source": [
    "dim_eucledian_distances = [eucledian_distances_uniform_points(lower_boundary, upper_boundary, d, sample_size) for d in dimensions]"
   ]
  },
  {
   "cell_type": "code",
   "execution_count": 6,
   "metadata": {},
   "outputs": [
    {
     "data": {
      "text/plain": [
       "Text(0,0.5,'Mean of eucledian distances')"
      ]
     },
     "execution_count": 6,
     "metadata": {},
     "output_type": "execute_result"
    },
    {
     "data": {
      "image/png": "[encoded data removed]",
      "text/plain": [
       "<Figure size 432x288 with 1 Axes>"
      ]
     },
     "metadata": {},
     "output_type": "display_data"
    }
   ],
   "source": [
    "f,ax = plt.subplots()\n",
    "ax.scatter(dimensions, np.mean(dim_eucledian_distances, axis=1))\n",
    "ax.plot(dimensions, np.mean(dim_eucledian_distances, axis=1), linestyle='--')\n",
    "ax.set_xlabel(\"Dimension\")\n",
    "ax.set_ylabel(\"Mean of eucledian distances\")"
   ]
  },
  {
   "cell_type": "markdown",
   "metadata": {},
   "source": [
    "------"
   ]
  },
  {
   "cell_type": "markdown",
   "metadata": {},
   "source": [
    "## Test area"
   ]
  },
  {
   "cell_type": "code",
   "execution_count": 7,
   "metadata": {
    "collapsed": true
   },
   "outputs": [],
   "source": [
    "X = np.random.uniform( low=lower_boundary, high=upper_boundary, size=(sample_size, 1) )\n",
    "Y = np.random.uniform( low=lower_boundary, high=upper_boundary, size=(sample_size, 1) )"
   ]
  },
  {
   "cell_type": "code",
   "execution_count": 8,
   "metadata": {},
   "outputs": [
    {
     "data": {
      "text/plain": [
       "0.16455179766885838"
      ]
     },
     "execution_count": 8,
     "metadata": {},
     "output_type": "execute_result"
    }
   ],
   "source": [
    "np.mean((X-Y)**2)"
   ]
  },
  {
   "cell_type": "code",
   "execution_count": 9,
   "metadata": {},
   "outputs": [
    {
     "data": {
      "text/plain": [
       "3369.3188939102938"
      ]
     },
     "execution_count": 9,
     "metadata": {},
     "output_type": "execute_result"
    }
   ],
   "source": [
    "np.sum(dim_eucledian_distances[0])"
   ]
  }
 ],
 "metadata": {
  "kernelspec": {
   "display_name": "Python 3",
   "language": "python",
   "name": "python3"
  },
  "language_info": {
   "codemirror_mode": {
    "name": "ipython",
    "version": 3
   },
   "file_extension": ".py",
   "mimetype": "text/x-python",
   "name": "python",
   "nbconvert_exporter": "python",
   "pygments_lexer": "ipython3",
   "version": "3.6.6"
  }
 },
 "nbformat": 4,
 "nbformat_minor": 2
}
