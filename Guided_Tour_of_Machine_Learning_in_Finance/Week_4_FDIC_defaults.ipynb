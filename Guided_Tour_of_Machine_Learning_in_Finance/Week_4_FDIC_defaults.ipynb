{
 "cells": [
  {
   "cell_type": "markdown",
   "metadata": {},
   "source": [
    "# FDIC default prediction with Logistic Regression"
   ]
  },
  {
   "cell_type": "code",
   "execution_count": 1,
   "metadata": {
    "collapsed": true
   },
   "outputs": [],
   "source": [
    "import numpy as np\n",
    "import pandas as pd\n",
    "import matplotlib.pyplot as plt\n",
    "%matplotlib inline"
   ]
  },
  {
   "cell_type": "code",
   "execution_count": 2,
   "metadata": {},
   "outputs": [],
   "source": [
    "df_train = pd.read_hdf('./data/df_train_FDIC_defaults_1Y.h5')\n",
    "df_test  = pd.read_hdf('./data/df_test_FDIC_defaults_1Y.h5')"
   ]
  },
  {
   "cell_type": "code",
   "execution_count": 4,
   "metadata": {},
   "outputs": [
    {
     "data": {
      "text/html": [
       "<div>\n",
       "<style scoped>\n",
       "    .dataframe tbody tr th:only-of-type {\n",
       "        vertical-align: middle;\n",
       "    }\n",
       "\n",
       "    .dataframe tbody tr th {\n",
       "        vertical-align: top;\n",
       "    }\n",
       "\n",
       "    .dataframe thead th {\n",
       "        text-align: right;\n",
       "    }\n",
       "</style>\n",
       "<table border=\"1\" class=\"dataframe\">\n",
       "  <thead>\n",
       "    <tr style=\"text-align: right;\">\n",
       "      <th></th>\n",
       "      <th></th>\n",
       "      <th>Financial Institution Name</th>\n",
       "      <th>Institution Name</th>\n",
       "      <th>total_assets</th>\n",
       "      <th>defaulter</th>\n",
       "      <th>Failure / Assistance</th>\n",
       "      <th>log_TA</th>\n",
       "      <th>NI_to_TA</th>\n",
       "      <th>Equity_to_TA</th>\n",
       "      <th>NPL_to_TL</th>\n",
       "      <th>REO_to_TA</th>\n",
       "      <th>...</th>\n",
       "      <th>loss_provision_to_TL_plus_1Q</th>\n",
       "      <th>ROA_plus_1Q</th>\n",
       "      <th>NIM_plus_1Q</th>\n",
       "      <th>assets_growth_plus_1Q</th>\n",
       "      <th>default_within_1Y</th>\n",
       "      <th>Failure</th>\n",
       "      <th>max_total_assets</th>\n",
       "      <th>num_records</th>\n",
       "      <th>non_defaulter</th>\n",
       "      <th>const</th>\n",
       "    </tr>\n",
       "    <tr>\n",
       "      <th>IDRSSD</th>\n",
       "      <th>date</th>\n",
       "      <th></th>\n",
       "      <th></th>\n",
       "      <th></th>\n",
       "      <th></th>\n",
       "      <th></th>\n",
       "      <th></th>\n",
       "      <th></th>\n",
       "      <th></th>\n",
       "      <th></th>\n",
       "      <th></th>\n",
       "      <th></th>\n",
       "      <th></th>\n",
       "      <th></th>\n",
       "      <th></th>\n",
       "      <th></th>\n",
       "      <th></th>\n",
       "      <th></th>\n",
       "      <th></th>\n",
       "      <th></th>\n",
       "      <th></th>\n",
       "      <th></th>\n",
       "    </tr>\n",
       "  </thead>\n",
       "  <tbody>\n",
       "    <tr>\n",
       "      <th>904957</th>\n",
       "      <th>2008-03-31</th>\n",
       "      <td>COLORADO NATIONAL BANK</td>\n",
       "      <td>COLORADO NATIONAL BANK</td>\n",
       "      <td>142138.0</td>\n",
       "      <td>1.0</td>\n",
       "      <td>FAILURE</td>\n",
       "      <td>-0.048734</td>\n",
       "      <td>-6.505183</td>\n",
       "      <td>-0.759562</td>\n",
       "      <td>0.880756</td>\n",
       "      <td>-0.162301</td>\n",
       "      <td>...</td>\n",
       "      <td>0.004823</td>\n",
       "      <td>-0.367905</td>\n",
       "      <td>-0.840312</td>\n",
       "      <td>-0.582232</td>\n",
       "      <td>1.0</td>\n",
       "      <td>1.0</td>\n",
       "      <td>142138.0</td>\n",
       "      <td>31.0</td>\n",
       "      <td>0.0</td>\n",
       "      <td>1</td>\n",
       "    </tr>\n",
       "    <tr>\n",
       "      <th>202907</th>\n",
       "      <th>2011-06-30</th>\n",
       "      <td>COMMUNITY BANK, NATIONAL ASSOCIATION</td>\n",
       "      <td>NaN</td>\n",
       "      <td>6364903.0</td>\n",
       "      <td>0.0</td>\n",
       "      <td>NaN</td>\n",
       "      <td>2.754852</td>\n",
       "      <td>0.143005</td>\n",
       "      <td>0.249275</td>\n",
       "      <td>-0.405931</td>\n",
       "      <td>-0.327268</td>\n",
       "      <td>...</td>\n",
       "      <td>-0.003057</td>\n",
       "      <td>0.205816</td>\n",
       "      <td>-0.140365</td>\n",
       "      <td>0.003962</td>\n",
       "      <td>0.0</td>\n",
       "      <td>NaN</td>\n",
       "      <td>8494486.0</td>\n",
       "      <td>60.0</td>\n",
       "      <td>1.0</td>\n",
       "      <td>1</td>\n",
       "    </tr>\n",
       "    <tr>\n",
       "      <th>652874</th>\n",
       "      <th>2012-12-31</th>\n",
       "      <td>NEXBANK, SSB</td>\n",
       "      <td>NaN</td>\n",
       "      <td>784781.0</td>\n",
       "      <td>0.0</td>\n",
       "      <td>NaN</td>\n",
       "      <td>1.211269</td>\n",
       "      <td>0.229021</td>\n",
       "      <td>-0.301031</td>\n",
       "      <td>-0.750449</td>\n",
       "      <td>-0.304600</td>\n",
       "      <td>...</td>\n",
       "      <td>-0.003506</td>\n",
       "      <td>0.470935</td>\n",
       "      <td>-0.799310</td>\n",
       "      <td>0.284815</td>\n",
       "      <td>0.0</td>\n",
       "      <td>NaN</td>\n",
       "      <td>2698563.0</td>\n",
       "      <td>60.0</td>\n",
       "      <td>1.0</td>\n",
       "      <td>1</td>\n",
       "    </tr>\n",
       "    <tr>\n",
       "      <th>9115</th>\n",
       "      <th>2003-03-31</th>\n",
       "      <td>COMMERCE BANK/SHORE NATIONAL ASSOCIATION</td>\n",
       "      <td>NaN</td>\n",
       "      <td>2173481.0</td>\n",
       "      <td>0.0</td>\n",
       "      <td>NaN</td>\n",
       "      <td>1.962490</td>\n",
       "      <td>0.253469</td>\n",
       "      <td>-0.922810</td>\n",
       "      <td>-0.752942</td>\n",
       "      <td>-0.374868</td>\n",
       "      <td>...</td>\n",
       "      <td>-0.002819</td>\n",
       "      <td>0.225454</td>\n",
       "      <td>-0.324276</td>\n",
       "      <td>1.091618</td>\n",
       "      <td>0.0</td>\n",
       "      <td>NaN</td>\n",
       "      <td>2697759.0</td>\n",
       "      <td>12.0</td>\n",
       "      <td>1.0</td>\n",
       "      <td>1</td>\n",
       "    </tr>\n",
       "    <tr>\n",
       "      <th>3344611</th>\n",
       "      <th>2012-06-30</th>\n",
       "      <td>BANK OF AMERICA RHODE ISLAND, NATIONAL ASSOCIA...</td>\n",
       "      <td>NaN</td>\n",
       "      <td>19405460.0</td>\n",
       "      <td>1.0</td>\n",
       "      <td>NaN</td>\n",
       "      <td>3.576923</td>\n",
       "      <td>0.103615</td>\n",
       "      <td>0.088508</td>\n",
       "      <td>2.380231</td>\n",
       "      <td>-0.121243</td>\n",
       "      <td>...</td>\n",
       "      <td>0.001903</td>\n",
       "      <td>0.101099</td>\n",
       "      <td>-0.791229</td>\n",
       "      <td>-0.408817</td>\n",
       "      <td>0.0</td>\n",
       "      <td>NaN</td>\n",
       "      <td>39211041.0</td>\n",
       "      <td>31.0</td>\n",
       "      <td>0.0</td>\n",
       "      <td>1</td>\n",
       "    </tr>\n",
       "  </tbody>\n",
       "</table>\n",
       "<p>5 rows × 44 columns</p>\n",
       "</div>"
      ],
      "text/plain": [
       "                                           Financial Institution Name  \\\n",
       "IDRSSD  date                                                            \n",
       "904957  2008-03-31                             COLORADO NATIONAL BANK   \n",
       "202907  2011-06-30               COMMUNITY BANK, NATIONAL ASSOCIATION   \n",
       "652874  2012-12-31                                       NEXBANK, SSB   \n",
       "9115    2003-03-31           COMMERCE BANK/SHORE NATIONAL ASSOCIATION   \n",
       "3344611 2012-06-30  BANK OF AMERICA RHODE ISLAND, NATIONAL ASSOCIA...   \n",
       "\n",
       "                         Institution Name   total_assets  defaulter  \\\n",
       "IDRSSD  date                                                          \n",
       "904957  2008-03-31  COLORADO NATIONAL BANK      142138.0        1.0   \n",
       "202907  2011-06-30                     NaN     6364903.0        0.0   \n",
       "652874  2012-12-31                     NaN      784781.0        0.0   \n",
       "9115    2003-03-31                     NaN     2173481.0        0.0   \n",
       "3344611 2012-06-30                     NaN    19405460.0        1.0   \n",
       "\n",
       "                   Failure / Assistance     log_TA  NI_to_TA  Equity_to_TA  \\\n",
       "IDRSSD  date                                                                 \n",
       "904957  2008-03-31               FAILURE -0.048734 -6.505183     -0.759562   \n",
       "202907  2011-06-30                   NaN  2.754852  0.143005      0.249275   \n",
       "652874  2012-12-31                   NaN  1.211269  0.229021     -0.301031   \n",
       "9115    2003-03-31                   NaN  1.962490  0.253469     -0.922810   \n",
       "3344611 2012-06-30                   NaN  3.576923  0.103615      0.088508   \n",
       "\n",
       "                    NPL_to_TL  REO_to_TA  ...    loss_provision_to_TL_plus_1Q  \\\n",
       "IDRSSD  date                              ...                                   \n",
       "904957  2008-03-31   0.880756  -0.162301  ...                        0.004823   \n",
       "202907  2011-06-30  -0.405931  -0.327268  ...                       -0.003057   \n",
       "652874  2012-12-31  -0.750449  -0.304600  ...                       -0.003506   \n",
       "9115    2003-03-31  -0.752942  -0.374868  ...                       -0.002819   \n",
       "3344611 2012-06-30   2.380231  -0.121243  ...                        0.001903   \n",
       "\n",
       "                    ROA_plus_1Q  NIM_plus_1Q  assets_growth_plus_1Q  \\\n",
       "IDRSSD  date                                                          \n",
       "904957  2008-03-31    -0.367905    -0.840312              -0.582232   \n",
       "202907  2011-06-30     0.205816    -0.140365               0.003962   \n",
       "652874  2012-12-31     0.470935    -0.799310               0.284815   \n",
       "9115    2003-03-31     0.225454    -0.324276               1.091618   \n",
       "3344611 2012-06-30     0.101099    -0.791229              -0.408817   \n",
       "\n",
       "                    default_within_1Y  Failure  max_total_assets  num_records  \\\n",
       "IDRSSD  date                                                                    \n",
       "904957  2008-03-31                1.0      1.0          142138.0         31.0   \n",
       "202907  2011-06-30                0.0      NaN         8494486.0         60.0   \n",
       "652874  2012-12-31                0.0      NaN         2698563.0         60.0   \n",
       "9115    2003-03-31                0.0      NaN         2697759.0         12.0   \n",
       "3344611 2012-06-30                0.0      NaN        39211041.0         31.0   \n",
       "\n",
       "                    non_defaulter  const  \n",
       "IDRSSD  date                              \n",
       "904957  2008-03-31            0.0      1  \n",
       "202907  2011-06-30            1.0      1  \n",
       "652874  2012-12-31            1.0      1  \n",
       "9115    2003-03-31            1.0      1  \n",
       "3344611 2012-06-30            0.0      1  \n",
       "\n",
       "[5 rows x 44 columns]"
      ]
     },
     "execution_count": 4,
     "metadata": {},
     "output_type": "execute_result"
    }
   ],
   "source": [
    "df_train.head()"
   ]
  },
  {
   "cell_type": "code",
   "execution_count": 6,
   "metadata": {},
   "outputs": [
    {
     "data": {
      "text/plain": [
       "641"
      ]
     },
     "execution_count": 6,
     "metadata": {},
     "output_type": "execute_result"
    }
   ],
   "source": [
    "len(df_train)"
   ]
  },
  {
   "cell_type": "code",
   "execution_count": 10,
   "metadata": {},
   "outputs": [
    {
     "data": {
      "text/plain": [
       "Index(['Financial Institution Name', 'Institution Name ', 'total_assets',\n",
       "       'defaulter', 'Failure / Assistance ', 'log_TA', 'NI_to_TA',\n",
       "       'Equity_to_TA', 'NPL_to_TL', 'REO_to_TA', 'ALLL_to_TL',\n",
       "       'core_deposits_to_TA', 'brokered_deposits_to_TA', 'liquid_assets_to_TA',\n",
       "       'loss_provision_to_TL', 'ROA', 'NIM', 'assets_growth', 'term_spread',\n",
       "       'stock_mkt_growth', 'real_gdp_growth', 'unemployment_rate_change',\n",
       "       'treasury_yield_3m', 'bbb_spread', 'bbb_spread_change',\n",
       "       'log_TA_plus_1Q', 'NI_to_TA_plus_1Q', 'Equity_to_TA_plus_1Q',\n",
       "       'NPL_to_TL_plus_1Q', 'REO_to_TA_plus_1Q', 'ALLL_to_TL_plus_1Q',\n",
       "       'core_deposits_to_TA_plus_1Q', 'brokered_deposits_to_TA_plus_1Q',\n",
       "       'liquid_assets_to_TA_plus_1Q', 'loss_provision_to_TL_plus_1Q',\n",
       "       'ROA_plus_1Q', 'NIM_plus_1Q', 'assets_growth_plus_1Q',\n",
       "       'default_within_1Y', 'Failure', 'max_total_assets', 'num_records',\n",
       "       'non_defaulter', 'const'],\n",
       "      dtype='object')"
      ]
     },
     "execution_count": 10,
     "metadata": {},
     "output_type": "execute_result"
    }
   ],
   "source": [
    "df_train.columns"
   ]
  },
  {
   "cell_type": "code",
   "execution_count": 14,
   "metadata": {},
   "outputs": [],
   "source": [
    "nondefaults = df_train[df_train['defaulter'] == 0.0]\n",
    "defaults    = df_train[df_train['defaulter'] == 1.0]"
   ]
  },
  {
   "cell_type": "code",
   "execution_count": 21,
   "metadata": {},
   "outputs": [
    {
     "data": {
      "text/plain": [
       "<matplotlib.axes._subplots.AxesSubplot at 0x7f81614abbe0>"
      ]
     },
     "execution_count": 21,
     "metadata": {},
     "output_type": "execute_result"
    },
    {
     "data": {
      "image/png": "[encoded data removed]",
      "text/plain": [
       "<Figure size 432x288 with 1 Axes>"
      ]
     },
     "metadata": {},
     "output_type": "display_data"
    }
   ],
   "source": [
    "fig,ax = plt.subplots()\n",
    "nondefaults.plot.scatter('log_TA', 'NPL_to_TL', c='navy',ax=ax)\n",
    "defaults.plot.scatter('log_TA', 'NPL_to_TL', c='firebrick',ax=ax)"
   ]
  },
  {
   "cell_type": "code",
   "execution_count": 23,
   "metadata": {},
   "outputs": [
    {
     "data": {
      "text/plain": [
       "(-25, 15)"
      ]
     },
     "execution_count": 23,
     "metadata": {},
     "output_type": "execute_result"
    },
    {
     "data": {
      "image/png": "[encoded data removed]",
      "text/plain": [
       "<Figure size 432x288 with 1 Axes>"
      ]
     },
     "metadata": {},
     "output_type": "display_data"
    }
   ],
   "source": [
    "fig,ax = plt.subplots()\n",
    "nondefaults.plot.scatter('log_TA', 'NI_to_TA', c='navy',ax=ax)\n",
    "defaults.plot.scatter('log_TA', 'NI_to_TA', c='firebrick',ax=ax)\n",
    "ax.set_ylim(-25, 15)"
   ]
  },
  {
   "cell_type": "code",
   "execution_count": null,
   "metadata": {
    "collapsed": true
   },
   "outputs": [],
   "source": []
  }
 ],
 "metadata": {
  "kernelspec": {
   "display_name": "Python 3",
   "language": "python",
   "name": "python3"
  },
  "language_info": {
   "codemirror_mode": {
    "name": "ipython",
    "version": 3
   },
   "file_extension": ".py",
   "mimetype": "text/x-python",
   "name": "python",
   "nbconvert_exporter": "python",
   "pygments_lexer": "ipython3",
   "version": "3.6.6"
  }
 },
 "nbformat": 4,
 "nbformat_minor": 2
}
