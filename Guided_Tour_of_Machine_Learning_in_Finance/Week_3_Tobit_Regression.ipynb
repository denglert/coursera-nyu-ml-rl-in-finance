{
 "cells": [
  {
   "cell_type": "markdown",
   "metadata": {},
   "source": [
    "# Tobit Regression"
   ]
  },
  {
   "cell_type": "markdown",
   "metadata": {},
   "source": [
    "**References:**\n",
    "- https://www.coursera.org/learn/guided-tour-machine-learning-finance/notebook/PmV1P/tobit-regression\n",
    "- https://en.wikipedia.org/wiki/Tobit_model"
   ]
  },
  {
   "cell_type": "markdown",
   "metadata": {},
   "source": [
    "\\begin{equation}\n",
    "    y_{i}\n",
    "    =\n",
    "    \\begin{cases}\n",
    "        y^{*}_{i}, & ~~~ y^{*}_{i} > 0 \\\\\n",
    "        0, & ~~~ y^{*}_{i} <= 0\n",
    "    \\end{cases}\n",
    "\\end{equation}\n",
    "\n",
    "where $y^{*}_{i}$ is the latent variable\n",
    "\n",
    "\\begin{equation}\n",
    "    y^{*}_{i}\n",
    "    =\n",
    "    \\beta x_{i} + u_{i}\n",
    "\\end{equation}\n",
    "\n",
    "with $u_{i} ~ \\mathcal{N}(0,\\sigma^{2})$"
   ]
  },
  {
   "cell_type": "markdown",
   "metadata": {},
   "source": [
    "\\begin{equation}\n",
    "    \\mathcal{L}(y_{i})\n",
    "    =\n",
    "    \\\n",
    "\\end{equation}"
   ]
  },
  {
   "cell_type": "code",
   "execution_count": 1,
   "metadata": {
    "collapsed": true
   },
   "outputs": [],
   "source": [
    "import numpy as np\n",
    "import tensorflow as tf"
   ]
  },
  {
   "cell_type": "code",
   "execution_count": 2,
   "metadata": {
    "collapsed": true
   },
   "outputs": [],
   "source": [
    "normal = tf.distributions.Normal(loc=0.0, scale=1.0)"
   ]
  },
  {
   "cell_type": "code",
   "execution_count": 3,
   "metadata": {},
   "outputs": [
    {
     "data": {
      "text/plain": [
       "<tf.Tensor 'Normal_1/prob/Exp:0' shape=() dtype=float32>"
      ]
     },
     "execution_count": 3,
     "metadata": {},
     "output_type": "execute_result"
    }
   ],
   "source": [
    "normal.prob(1.0)"
   ]
  },
  {
   "cell_type": "code",
   "execution_count": null,
   "metadata": {
    "collapsed": true
   },
   "outputs": [],
   "source": []
  }
 ],
 "metadata": {
  "kernelspec": {
   "display_name": "Python 3",
   "language": "python",
   "name": "python3"
  },
  "language_info": {
   "codemirror_mode": {
    "name": "ipython",
    "version": 3
   },
   "file_extension": ".py",
   "mimetype": "text/x-python",
   "name": "python",
   "nbconvert_exporter": "python",
   "pygments_lexer": "ipython3",
   "version": "3.6.6"
  }
 },
 "nbformat": 4,
 "nbformat_minor": 2
}
